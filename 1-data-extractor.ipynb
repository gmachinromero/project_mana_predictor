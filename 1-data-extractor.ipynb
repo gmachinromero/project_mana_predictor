{
 "cells": [
  {
   "cell_type": "code",
   "execution_count": 1,
   "id": "13927a0f-1741-4673-950b-cd1e007a1440",
   "metadata": {},
   "outputs": [
    {
     "name": "stdout",
     "output_type": "stream",
     "text": [
      "-----\n",
      "matplotlib  3.5.1\n",
      "numpy       1.22.0\n",
      "pandas      1.3.5\n",
      "seaborn     0.11.2\n",
      "sinfo       0.3.1\n",
      "-----\n",
      "IPython             7.31.0\n",
      "jupyter_client      7.1.0\n",
      "jupyter_core        4.9.1\n",
      "jupyterlab          3.2.6\n",
      "notebook            6.4.6\n",
      "-----\n",
      "Python 3.10.0 | packaged by conda-forge | (default, Nov 10 2021, 13:20:59) [MSC v.1916 64 bit (AMD64)]\n",
      "Windows-10-10.0.19043-SP0\n",
      "4 logical CPU cores, Intel64 Family 6 Model 61 Stepping 4, GenuineIntel\n",
      "-----\n",
      "Session information updated at 2022-01-09 19:51\n"
     ]
    }
   ],
   "source": [
    "# Load Modules\n",
    "# ------------------------------------------------------------------------------\n",
    "# OS and modules\n",
    "from sinfo import sinfo\n",
    "\n",
    "# Data wrangling\n",
    "import numpy as np\n",
    "import pandas as pd\n",
    "\n",
    "# Data visualization\n",
    "import seaborn as sns\n",
    "sns.set_theme()\n",
    "\n",
    "import matplotlib.pyplot as plt\n",
    "\n",
    "# Machine learning\n",
    "\n",
    "sinfo()"
   ]
  },
  {
   "cell_type": "markdown",
   "id": "ebe42220-74e0-4fc7-af41-a852f50291a6",
   "metadata": {
    "tags": []
   },
   "source": [
    "## Pasos:\n",
    "\n",
    "1. Descargar datos de las cotizaciones históricas de MANA --> ¿Coinbase o Binance?\n",
    "2. Descargar datos históricos de las búsquedas en Google --> Google Trends\n",
    "3. Descargar tweets que contengan MANA, Meta, Decentraland... --> Tweepy"
   ]
  }
 ],
 "metadata": {
  "kernelspec": {
   "display_name": "Python 3 (ipykernel)",
   "language": "python",
   "name": "python3"
  },
  "language_info": {
   "codemirror_mode": {
    "name": "ipython",
    "version": 3
   },
   "file_extension": ".py",
   "mimetype": "text/x-python",
   "name": "python",
   "nbconvert_exporter": "python",
   "pygments_lexer": "ipython3",
   "version": "3.10.0"
  }
 },
 "nbformat": 4,
 "nbformat_minor": 5
}
